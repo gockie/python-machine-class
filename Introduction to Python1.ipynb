{
 "cells": [
  {
   "cell_type": "code",
   "execution_count": 2,
   "id": "69ecef5e",
   "metadata": {
    "scrolled": true
   },
   "outputs": [
    {
     "name": "stdout",
     "output_type": "stream",
     "text": [
      "hello world\n"
     ]
    }
   ],
   "source": [
    "print('hello world')"
   ]
  },
  {
   "cell_type": "code",
   "execution_count": 1,
   "id": "50622e40",
   "metadata": {},
   "outputs": [
    {
     "data": {
      "text/plain": [
       "4"
      ]
     },
     "execution_count": 1,
     "metadata": {},
     "output_type": "execute_result"
    }
   ],
   "source": [
    "x = int(input('number: '))\n",
    "\n",
    "print()"
   ]
  },
  {
   "cell_type": "code",
   "execution_count": 3,
   "id": "93c16a1a",
   "metadata": {},
   "outputs": [
    {
     "name": "stdout",
     "output_type": "stream",
     "text": [
      "hi world\n"
     ]
    }
   ],
   "source": [
    "print('hi world')"
   ]
  },
  {
   "cell_type": "code",
   "execution_count": 6,
   "id": "412becae",
   "metadata": {},
   "outputs": [
    {
     "data": {
      "text/plain": [
       "float"
      ]
     },
     "execution_count": 6,
     "metadata": {},
     "output_type": "execute_result"
    }
   ],
   "source": [
    "type(3.4)"
   ]
  },
  {
   "cell_type": "code",
   "execution_count": null,
   "id": "9efacc09",
   "metadata": {},
   "outputs": [],
   "source": [
    "x = 12\n",
    "if x > 4:\n",
    "    print"
   ]
  },
  {
   "cell_type": "code",
   "execution_count": 15,
   "id": "75cc15b5",
   "metadata": {},
   "outputs": [
    {
     "name": "stdout",
     "output_type": "stream",
     "text": [
      "decan\n",
      "ogami\n",
      "ugo\n"
     ]
    }
   ],
   "source": [
    "student_list = ['ugo', 'ogami', 'decan']\n",
    "\n",
    "\n",
    "student_list.reverse()\n",
    "\n",
    "for student in student_list:\n",
    "    print(student)"
   ]
  },
  {
   "cell_type": "code",
   "execution_count": 2,
   "id": "b7024486",
   "metadata": {},
   "outputs": [
    {
     "name": "stdout",
     "output_type": "stream",
     "text": [
      "7\n"
     ]
    }
   ],
   "source": [
    "x = 3\n",
    "y = 4\n",
    "print(x+y)\n",
    "\n",
    "\n"
   ]
  },
  {
   "cell_type": "code",
   "execution_count": 9,
   "id": "7626d601",
   "metadata": {},
   "outputs": [
    {
     "name": "stdout",
     "output_type": "stream",
     "text": [
      "90 = A\n",
      "80 = A\n",
      "79 = A\n",
      "69 = B\n",
      "60 = B\n",
      "59 = C\n",
      "56 = C\n",
      "27 = F\n",
      "20 = F\n"
     ]
    }
   ],
   "source": [
    "# Futo grading system for gly415\n",
    "\n",
    "students_scores = [80, 20, 27, 90, 60, 56, 79, 59, 69]\n",
    "students_scores.sort()\n",
    "students_scores.reverse()\n",
    "\n",
    "for score in students_scores:\n",
    "    if score >= 70:\n",
    "        print(score, '= A')\n",
    "    elif score <= 69 and score >= 60:\n",
    "        print(score, '= B')\n",
    "    elif score <= 59 and score >= 50:\n",
    "        print(score, '= C')\n",
    "    elif score <= 49 and score >= 45:\n",
    "        print(score, '= D')\n",
    "    else:\n",
    "        print(score, '= F')"
   ]
  },
  {
   "cell_type": "code",
   "execution_count": 12,
   "id": "a172ea79",
   "metadata": {},
   "outputs": [
    {
     "name": "stdout",
     "output_type": "stream",
     "text": [
      "enter your score80\n",
      "80 = A\n"
     ]
    }
   ],
   "source": [
    "# User input\n",
    "\n",
    "score = int(input('enter your score'))\n",
    "\n",
    "if score >= 70:\n",
    "    print(score, '= A')\n",
    "elif score <= 69 and score >= 60:\n",
    "    print(score, '= B')\n",
    "elif score <= 59 and score >= 50:\n",
    "    print(score, '= C')\n",
    "elif score <= 49 and score >= 45:\n",
    "    print(score, '= D')\n",
    "else:\n",
    "    print(score, '= F')"
   ]
  },
  {
   "cell_type": "code",
   "execution_count": 20,
   "id": "290d5b94",
   "metadata": {},
   "outputs": [
    {
     "name": "stdout",
     "output_type": "stream",
     "text": [
      "ID Number\n",
      "ID Number\n",
      "ID Number\n",
      "ID Number\n",
      "ID Number\n",
      "ID Number\n",
      "ID Number\n",
      "ID Number\n",
      "ID Number\n",
      "ID Number\n",
      "ID Number\n",
      "ID Number\n"
     ]
    }
   ],
   "source": [
    "# 3. While Statement\n",
    "\n",
    "#numOfItems = int(input('how many items did you purchase: '))\n",
    "\n",
    "stop_time = 12\n",
    "counter = 1\n",
    "while counter <= stop_time:\n",
    "    print('ID Number')\n",
    "    counter = counter + 1"
   ]
  },
  {
   "cell_type": "code",
   "execution_count": 23,
   "id": "92ab7114",
   "metadata": {},
   "outputs": [
    {
     "name": "stdout",
     "output_type": "stream",
     "text": [
      "78\n"
     ]
    }
   ],
   "source": [
    "# Program To Add Natural\n",
    "# Numbers Up To\n",
    "# Sum = 1+2+3+...+n\n",
    "\n",
    "#num = int(input('enter N: '))\n",
    "\n",
    "num = 12\n",
    "counter = 1\n",
    "sums = 0\n",
    "\n",
    "while counter <= num:\n",
    "    sums = sums + counter\n",
    "    counter = counter + 1\n",
    "    \n",
    "print(sums)"
   ]
  },
  {
   "cell_type": "code",
   "execution_count": 22,
   "id": "2e387d0e",
   "metadata": {},
   "outputs": [
    {
     "name": "stdout",
     "output_type": "stream",
     "text": [
      "Enter N: 400\n",
      "80200\n"
     ]
    }
   ],
   "source": [
    "num = int(input('Enter N: '))\n",
    "counter = 1\n",
    "sums = 0\n",
    "\n",
    "while counter <= num:\n",
    "    sums = sums + counter\n",
    "    counter = counter +\n",
    "    1\n",
    "    \n",
    "print(sums)"
   ]
  },
  {
   "cell_type": "markdown",
   "id": "3823d2f5",
   "metadata": {},
   "source": [
    "# Some built in functions "
   ]
  },
  {
   "cell_type": "code",
   "execution_count": 24,
   "id": "d2efae38",
   "metadata": {},
   "outputs": [
    {
     "name": "stdout",
     "output_type": "stream",
     "text": [
      "Help on built-in function abs in module builtins:\n",
      "\n",
      "abs(x, /)\n",
      "    Return the absolute value of the argument.\n",
      "\n"
     ]
    }
   ],
   "source": [
    "help(abs)"
   ]
  },
  {
   "cell_type": "code",
   "execution_count": 25,
   "id": "a90fa885",
   "metadata": {},
   "outputs": [
    {
     "name": "stdout",
     "output_type": "stream",
     "text": [
      "Help on class map in module builtins:\n",
      "\n",
      "class map(object)\n",
      " |  map(func, *iterables) --> map object\n",
      " |  \n",
      " |  Make an iterator that computes the function using arguments from\n",
      " |  each of the iterables.  Stops when the shortest iterable is exhausted.\n",
      " |  \n",
      " |  Methods defined here:\n",
      " |  \n",
      " |  __getattribute__(self, name, /)\n",
      " |      Return getattr(self, name).\n",
      " |  \n",
      " |  __iter__(self, /)\n",
      " |      Implement iter(self).\n",
      " |  \n",
      " |  __next__(self, /)\n",
      " |      Implement next(self).\n",
      " |  \n",
      " |  __reduce__(...)\n",
      " |      Return state information for pickling.\n",
      " |  \n",
      " |  ----------------------------------------------------------------------\n",
      " |  Static methods defined here:\n",
      " |  \n",
      " |  __new__(*args, **kwargs) from builtins.type\n",
      " |      Create and return a new object.  See help(type) for accurate signature.\n",
      "\n"
     ]
    }
   ],
   "source": [
    "help(map)"
   ]
  },
  {
   "cell_type": "code",
   "execution_count": 26,
   "id": "d4ce1972",
   "metadata": {},
   "outputs": [
    {
     "data": {
      "text/plain": [
       "array([2, 4, 5])"
      ]
     },
     "execution_count": 26,
     "metadata": {},
     "output_type": "execute_result"
    }
   ],
   "source": [
    "import numpy as np\n",
    "\n",
    "arr = np.array([-2, -4, -5])\n",
    "\n",
    "abs(arr)"
   ]
  },
  {
   "cell_type": "code",
   "execution_count": 30,
   "id": "af3ab6f4",
   "metadata": {},
   "outputs": [
    {
     "data": {
      "text/plain": [
       "3.0"
      ]
     },
     "execution_count": 30,
     "metadata": {},
     "output_type": "execute_result"
    }
   ],
   "source": [
    "import math\n",
    "\n",
    "math.sqrt(9)"
   ]
  },
  {
   "cell_type": "code",
   "execution_count": 31,
   "id": "54cc9ad4",
   "metadata": {},
   "outputs": [
    {
     "data": {
      "text/plain": [
       "2.0686215613240666"
      ]
     },
     "execution_count": 31,
     "metadata": {},
     "output_type": "execute_result"
    }
   ],
   "source": [
    "import math\n",
    "\n",
    "math.log(56, 7)"
   ]
  },
  {
   "cell_type": "code",
   "execution_count": 33,
   "id": "c35f1548",
   "metadata": {},
   "outputs": [
    {
     "name": "stdout",
     "output_type": "stream",
     "text": [
      "Function definitions\n",
      "********************\n",
      "\n",
      "A function definition defines a user-defined function object (see\n",
      "section The standard type hierarchy):\n",
      "\n",
      "   funcdef                   ::= [decorators] \"def\" funcname \"(\" [parameter_list] \")\"\n",
      "               [\"->\" expression] \":\" suite\n",
      "   decorators                ::= decorator+\n",
      "   decorator                 ::= \"@\" assignment_expression NEWLINE\n",
      "   parameter_list            ::= defparameter (\",\" defparameter)* \",\" \"/\" [\",\" [parameter_list_no_posonly]]\n",
      "                        | parameter_list_no_posonly\n",
      "   parameter_list_no_posonly ::= defparameter (\",\" defparameter)* [\",\" [parameter_list_starargs]]\n",
      "                                 | parameter_list_starargs\n",
      "   parameter_list_starargs   ::= \"*\" [parameter] (\",\" defparameter)* [\",\" [\"**\" parameter [\",\"]]]\n",
      "                               | \"**\" parameter [\",\"]\n",
      "   parameter                 ::= identifier [\":\" expression]\n",
      "   defparameter              ::= parameter [\"=\" expression]\n",
      "   funcname                  ::= identifier\n",
      "\n",
      "A function definition is an executable statement.  Its execution binds\n",
      "the function name in the current local namespace to a function object\n",
      "(a wrapper around the executable code for the function).  This\n",
      "function object contains a reference to the current global namespace\n",
      "as the global namespace to be used when the function is called.\n",
      "\n",
      "The function definition does not execute the function body; this gets\n",
      "executed only when the function is called. [4]\n",
      "\n",
      "A function definition may be wrapped by one or more *decorator*\n",
      "expressions. Decorator expressions are evaluated when the function is\n",
      "defined, in the scope that contains the function definition.  The\n",
      "result must be a callable, which is invoked with the function object\n",
      "as the only argument. The returned value is bound to the function name\n",
      "instead of the function object.  Multiple decorators are applied in\n",
      "nested fashion. For example, the following code\n",
      "\n",
      "   @f1(arg)\n",
      "   @f2\n",
      "   def func(): pass\n",
      "\n",
      "is roughly equivalent to\n",
      "\n",
      "   def func(): pass\n",
      "   func = f1(arg)(f2(func))\n",
      "\n",
      "except that the original function is not temporarily bound to the name\n",
      "\"func\".\n",
      "\n",
      "Changed in version 3.9: Functions may be decorated with any valid\n",
      "\"assignment_expression\". Previously, the grammar was much more\n",
      "restrictive; see **PEP 614** for details.\n",
      "\n",
      "When one or more *parameters* have the form *parameter* \"=\"\n",
      "*expression*, the function is said to have “default parameter values.”\n",
      "For a parameter with a default value, the corresponding *argument* may\n",
      "be omitted from a call, in which case the parameter’s default value is\n",
      "substituted.  If a parameter has a default value, all following\n",
      "parameters up until the “\"*\"” must also have a default value — this is\n",
      "a syntactic restriction that is not expressed by the grammar.\n",
      "\n",
      "**Default parameter values are evaluated from left to right when the\n",
      "function definition is executed.** This means that the expression is\n",
      "evaluated once, when the function is defined, and that the same “pre-\n",
      "computed” value is used for each call.  This is especially important\n",
      "to understand when a default parameter value is a mutable object, such\n",
      "as a list or a dictionary: if the function modifies the object (e.g.\n",
      "by appending an item to a list), the default parameter value is in\n",
      "effect modified.  This is generally not what was intended.  A way\n",
      "around this is to use \"None\" as the default, and explicitly test for\n",
      "it in the body of the function, e.g.:\n",
      "\n",
      "   def whats_on_the_telly(penguin=None):\n",
      "       if penguin is None:\n",
      "           penguin = []\n",
      "       penguin.append(\"property of the zoo\")\n",
      "       return penguin\n",
      "\n",
      "Function call semantics are described in more detail in section Calls.\n",
      "A function call always assigns values to all parameters mentioned in\n",
      "the parameter list, either from positional arguments, from keyword\n",
      "arguments, or from default values.  If the form “\"*identifier\"” is\n",
      "present, it is initialized to a tuple receiving any excess positional\n",
      "parameters, defaulting to the empty tuple. If the form\n",
      "“\"**identifier\"” is present, it is initialized to a new ordered\n",
      "mapping receiving any excess keyword arguments, defaulting to a new\n",
      "empty mapping of the same type.  Parameters after “\"*\"” or\n",
      "“\"*identifier\"” are keyword-only parameters and may only be passed by\n",
      "keyword arguments.  Parameters before “\"/\"” are positional-only\n",
      "parameters and may only be passed by positional arguments.\n",
      "\n",
      "Changed in version 3.8: The \"/\" function parameter syntax may be used\n",
      "to indicate positional-only parameters. See **PEP 570** for details.\n",
      "\n",
      "Parameters may have an *annotation* of the form “\": expression\"”\n",
      "following the parameter name.  Any parameter may have an annotation,\n",
      "even those of the form \"*identifier\" or \"**identifier\".  Functions may\n",
      "have “return” annotation of the form “\"-> expression\"” after the\n",
      "parameter list.  These annotations can be any valid Python expression.\n",
      "The presence of annotations does not change the semantics of a\n",
      "function.  The annotation values are available as values of a\n",
      "dictionary keyed by the parameters’ names in the \"__annotations__\"\n",
      "attribute of the function object.  If the \"annotations\" import from\n",
      "\"__future__\" is used, annotations are preserved as strings at runtime\n",
      "which enables postponed evaluation.  Otherwise, they are evaluated\n",
      "when the function definition is executed.  In this case annotations\n",
      "may be evaluated in a different order than they appear in the source\n",
      "code.\n",
      "\n",
      "It is also possible to create anonymous functions (functions not bound\n",
      "to a name), for immediate use in expressions.  This uses lambda\n",
      "expressions, described in section Lambdas.  Note that the lambda\n",
      "expression is merely a shorthand for a simplified function definition;\n",
      "a function defined in a “\"def\"” statement can be passed around or\n",
      "assigned to another name just like a function defined by a lambda\n",
      "expression.  The “\"def\"” form is actually more powerful since it\n",
      "allows the execution of multiple statements and annotations.\n",
      "\n",
      "**Programmer’s note:** Functions are first-class objects.  A “\"def\"”\n",
      "statement executed inside a function definition defines a local\n",
      "function that can be returned or passed around.  Free variables used\n",
      "in the nested function can access the local variables of the function\n",
      "containing the def.  See section Naming and binding for details.\n",
      "\n",
      "See also:\n",
      "\n",
      "  **PEP 3107** - Function Annotations\n",
      "     The original specification for function annotations.\n",
      "\n",
      "  **PEP 484** - Type Hints\n",
      "     Definition of a standard meaning for annotations: type hints.\n",
      "\n",
      "  **PEP 526** - Syntax for Variable Annotations\n",
      "     Ability to type hint variable declarations, including class\n",
      "     variables and instance variables\n",
      "\n",
      "  **PEP 563** - Postponed Evaluation of Annotations\n",
      "     Support for forward references within annotations by preserving\n",
      "     annotations in a string form at runtime instead of eager\n",
      "     evaluation.\n",
      "\n"
     ]
    }
   ],
   "source": [
    "help('def')"
   ]
  },
  {
   "cell_type": "code",
   "execution_count": 43,
   "id": "f8307a0f",
   "metadata": {},
   "outputs": [],
   "source": [
    "def absolute_values(val):\n",
    "    \"\"\"This function returns abs of the entered value\"\"\"\n",
    "    return abs(val)\n",
    "\n",
    "abs_list = list(map(absolute_values, [-2, -4, -5]))"
   ]
  },
  {
   "cell_type": "code",
   "execution_count": 44,
   "id": "5c17e98e",
   "metadata": {},
   "outputs": [
    {
     "data": {
      "text/plain": [
       "[2, 4, 5]"
      ]
     },
     "execution_count": 44,
     "metadata": {},
     "output_type": "execute_result"
    }
   ],
   "source": [
    "abs_list"
   ]
  },
  {
   "cell_type": "code",
   "execution_count": 45,
   "id": "d85bea37",
   "metadata": {},
   "outputs": [],
   "source": [
    "# range function\n",
    "# get list of even numbers based on a given range\n",
    "\n",
    "even_list = []\n",
    "odd_list = []\n",
    "\n",
    "for x in range(1, 31):\n",
    "    if x % 2 == 0:\n",
    "        even_list.append(x)\n",
    "    else:\n",
    "        odd_list.append(x)"
   ]
  },
  {
   "cell_type": "code",
   "execution_count": 46,
   "id": "ed27c240",
   "metadata": {},
   "outputs": [
    {
     "data": {
      "text/plain": [
       "[2, 4, 6, 8, 10, 12, 14, 16, 18, 20, 22, 24, 26, 28, 30]"
      ]
     },
     "execution_count": 46,
     "metadata": {},
     "output_type": "execute_result"
    }
   ],
   "source": [
    "even_list"
   ]
  },
  {
   "cell_type": "code",
   "execution_count": 47,
   "id": "421fc6fe",
   "metadata": {},
   "outputs": [
    {
     "data": {
      "text/plain": [
       "[1, 3, 5, 7, 9, 11, 13, 15, 17, 19, 21, 23, 25, 27, 29]"
      ]
     },
     "execution_count": 47,
     "metadata": {},
     "output_type": "execute_result"
    }
   ],
   "source": [
    "odd_list"
   ]
  },
  {
   "cell_type": "code",
   "execution_count": 48,
   "id": "fe9fdd10",
   "metadata": {},
   "outputs": [
    {
     "data": {
      "text/plain": [
       "19"
      ]
     },
     "execution_count": 48,
     "metadata": {},
     "output_type": "execute_result"
    }
   ],
   "source": [
    "sum([1, 4, 6, 8])"
   ]
  },
  {
   "cell_type": "markdown",
   "id": "fe2629ae",
   "metadata": {},
   "source": [
    "## Python Self Defined Functions\n",
    "\n",
    "### Keywords In Python"
   ]
  },
  {
   "cell_type": "code",
   "execution_count": 49,
   "id": "a4a857cf",
   "metadata": {},
   "outputs": [
    {
     "name": "stdout",
     "output_type": "stream",
     "text": [
      "\n",
      "Here is a list of the Python keywords.  Enter any keyword to get more help.\n",
      "\n",
      "False               class               from                or\n",
      "None                continue            global              pass\n",
      "True                def                 if                  raise\n",
      "and                 del                 import              return\n",
      "as                  elif                in                  try\n",
      "assert              else                is                  while\n",
      "async               except              lambda              with\n",
      "await               finally             nonlocal            yield\n",
      "break               for                 not                 \n",
      "\n"
     ]
    }
   ],
   "source": [
    "help('keywords')"
   ]
  },
  {
   "cell_type": "code",
   "execution_count": 50,
   "id": "47248cfd",
   "metadata": {},
   "outputs": [
    {
     "name": "stdout",
     "output_type": "stream",
     "text": [
      "good\n",
      "good\n",
      "good\n",
      "good\n",
      "good\n",
      "good\n",
      "good\n",
      "good\n",
      "good\n",
      "good\n"
     ]
    }
   ],
   "source": [
    "k = 1\n",
    "val = 10\n",
    "while k <= val: # base case\n",
    "    print('good')\n",
    "    \n",
    "    k = k + 1 # recursive case"
   ]
  },
  {
   "cell_type": "code",
   "execution_count": 51,
   "id": "d7290aed",
   "metadata": {},
   "outputs": [],
   "source": [
    "def add_numbers(*numbers): # unlimited number of args\n",
    "    sums = sum(numbers)\n",
    "    return sums"
   ]
  },
  {
   "cell_type": "code",
   "execution_count": 53,
   "id": "66da9fe0",
   "metadata": {},
   "outputs": [
    {
     "data": {
      "text/plain": [
       "2638"
      ]
     },
     "execution_count": 53,
     "metadata": {},
     "output_type": "execute_result"
    }
   ],
   "source": [
    "add_numbers(33, 785, 886, 934)"
   ]
  },
  {
   "cell_type": "markdown",
   "id": "aa67058a",
   "metadata": {},
   "source": [
    "# pandas"
   ]
  },
  {
   "cell_type": "code",
   "execution_count": 4,
   "id": "dc60d4c0",
   "metadata": {
    "scrolled": true
   },
   "outputs": [],
   "source": [
    "import numpy as np\n",
    "import pandas as pd"
   ]
  },
  {
   "cell_type": "code",
   "execution_count": 5,
   "id": "e1d64fbe",
   "metadata": {},
   "outputs": [],
   "source": [
    "data_df = pd.read_csv(\"CleanedUpCoreData.csv\")"
   ]
  },
  {
   "cell_type": "code",
   "execution_count": 6,
   "id": "d9a264fa",
   "metadata": {},
   "outputs": [
    {
     "data": {
      "text/html": [
       "<div>\n",
       "<style scoped>\n",
       "    .dataframe tbody tr th:only-of-type {\n",
       "        vertical-align: middle;\n",
       "    }\n",
       "\n",
       "    .dataframe tbody tr th {\n",
       "        vertical-align: top;\n",
       "    }\n",
       "\n",
       "    .dataframe thead th {\n",
       "        text-align: right;\n",
       "    }\n",
       "</style>\n",
       "<table border=\"1\" class=\"dataframe\">\n",
       "  <thead>\n",
       "    <tr style=\"text-align: right;\">\n",
       "      <th></th>\n",
       "      <th>Depth</th>\n",
       "      <th>CorrectedPorosity</th>\n",
       "      <th>TOC</th>\n",
       "      <th>Quartz</th>\n",
       "      <th>Calcite</th>\n",
       "    </tr>\n",
       "  </thead>\n",
       "  <tbody>\n",
       "    <tr>\n",
       "      <th>0</th>\n",
       "      <td>6432.5</td>\n",
       "      <td>6.67</td>\n",
       "      <td>4.15</td>\n",
       "      <td>38.6</td>\n",
       "      <td>0.0</td>\n",
       "    </tr>\n",
       "    <tr>\n",
       "      <th>1</th>\n",
       "      <td>6434.5</td>\n",
       "      <td>6.07</td>\n",
       "      <td>4.25</td>\n",
       "      <td>48.6</td>\n",
       "      <td>6.2</td>\n",
       "    </tr>\n",
       "    <tr>\n",
       "      <th>2</th>\n",
       "      <td>6436.5</td>\n",
       "      <td>4.91</td>\n",
       "      <td>3.40</td>\n",
       "      <td>41.0</td>\n",
       "      <td>2.5</td>\n",
       "    </tr>\n",
       "    <tr>\n",
       "      <th>3</th>\n",
       "      <td>6438.5</td>\n",
       "      <td>6.00</td>\n",
       "      <td>0.39</td>\n",
       "      <td>4.6</td>\n",
       "      <td>66.4</td>\n",
       "    </tr>\n",
       "    <tr>\n",
       "      <th>4</th>\n",
       "      <td>6440.6</td>\n",
       "      <td>5.63</td>\n",
       "      <td>3.90</td>\n",
       "      <td>37.0</td>\n",
       "      <td>0.6</td>\n",
       "    </tr>\n",
       "    <tr>\n",
       "      <th>...</th>\n",
       "      <td>...</td>\n",
       "      <td>...</td>\n",
       "      <td>...</td>\n",
       "      <td>...</td>\n",
       "      <td>...</td>\n",
       "    </tr>\n",
       "    <tr>\n",
       "      <th>162</th>\n",
       "      <td>6773.9</td>\n",
       "      <td>3.77</td>\n",
       "      <td>2.06</td>\n",
       "      <td>26.7</td>\n",
       "      <td>15.4</td>\n",
       "    </tr>\n",
       "    <tr>\n",
       "      <th>163</th>\n",
       "      <td>6775.1</td>\n",
       "      <td>4.60</td>\n",
       "      <td>3.52</td>\n",
       "      <td>31.0</td>\n",
       "      <td>0.0</td>\n",
       "    </tr>\n",
       "    <tr>\n",
       "      <th>164</th>\n",
       "      <td>6780.6</td>\n",
       "      <td>4.16</td>\n",
       "      <td>2.47</td>\n",
       "      <td>16.0</td>\n",
       "      <td>8.7</td>\n",
       "    </tr>\n",
       "    <tr>\n",
       "      <th>165</th>\n",
       "      <td>6782.2</td>\n",
       "      <td>2.49</td>\n",
       "      <td>2.32</td>\n",
       "      <td>24.8</td>\n",
       "      <td>19.8</td>\n",
       "    </tr>\n",
       "    <tr>\n",
       "      <th>166</th>\n",
       "      <td>6784.3</td>\n",
       "      <td>2.99</td>\n",
       "      <td>3.66</td>\n",
       "      <td>20.2</td>\n",
       "      <td>11.9</td>\n",
       "    </tr>\n",
       "  </tbody>\n",
       "</table>\n",
       "<p>167 rows × 5 columns</p>\n",
       "</div>"
      ],
      "text/plain": [
       "      Depth  CorrectedPorosity   TOC  Quartz  Calcite\n",
       "0    6432.5               6.67  4.15    38.6      0.0\n",
       "1    6434.5               6.07  4.25    48.6      6.2\n",
       "2    6436.5               4.91  3.40    41.0      2.5\n",
       "3    6438.5               6.00  0.39     4.6     66.4\n",
       "4    6440.6               5.63  3.90    37.0      0.6\n",
       "..      ...                ...   ...     ...      ...\n",
       "162  6773.9               3.77  2.06    26.7     15.4\n",
       "163  6775.1               4.60  3.52    31.0      0.0\n",
       "164  6780.6               4.16  2.47    16.0      8.7\n",
       "165  6782.2               2.49  2.32    24.8     19.8\n",
       "166  6784.3               2.99  3.66    20.2     11.9\n",
       "\n",
       "[167 rows x 5 columns]"
      ]
     },
     "execution_count": 6,
     "metadata": {},
     "output_type": "execute_result"
    }
   ],
   "source": [
    "data_df"
   ]
  },
  {
   "cell_type": "code",
   "execution_count": 8,
   "id": "bef33824",
   "metadata": {},
   "outputs": [
    {
     "data": {
      "text/html": [
       "<div>\n",
       "<style scoped>\n",
       "    .dataframe tbody tr th:only-of-type {\n",
       "        vertical-align: middle;\n",
       "    }\n",
       "\n",
       "    .dataframe tbody tr th {\n",
       "        vertical-align: top;\n",
       "    }\n",
       "\n",
       "    .dataframe thead th {\n",
       "        text-align: right;\n",
       "    }\n",
       "</style>\n",
       "<table border=\"1\" class=\"dataframe\">\n",
       "  <thead>\n",
       "    <tr style=\"text-align: right;\">\n",
       "      <th></th>\n",
       "      <th>Depth</th>\n",
       "      <th>CorrectedPorosity</th>\n",
       "      <th>TOC</th>\n",
       "      <th>Quartz</th>\n",
       "      <th>Calcite</th>\n",
       "    </tr>\n",
       "  </thead>\n",
       "  <tbody>\n",
       "    <tr>\n",
       "      <th>0</th>\n",
       "      <td>6432.5</td>\n",
       "      <td>6.67</td>\n",
       "      <td>4.15</td>\n",
       "      <td>38.6</td>\n",
       "      <td>0.0</td>\n",
       "    </tr>\n",
       "    <tr>\n",
       "      <th>1</th>\n",
       "      <td>6434.5</td>\n",
       "      <td>6.07</td>\n",
       "      <td>4.25</td>\n",
       "      <td>48.6</td>\n",
       "      <td>6.2</td>\n",
       "    </tr>\n",
       "    <tr>\n",
       "      <th>2</th>\n",
       "      <td>6436.5</td>\n",
       "      <td>4.91</td>\n",
       "      <td>3.40</td>\n",
       "      <td>41.0</td>\n",
       "      <td>2.5</td>\n",
       "    </tr>\n",
       "    <tr>\n",
       "      <th>3</th>\n",
       "      <td>6438.5</td>\n",
       "      <td>6.00</td>\n",
       "      <td>0.39</td>\n",
       "      <td>4.6</td>\n",
       "      <td>66.4</td>\n",
       "    </tr>\n",
       "    <tr>\n",
       "      <th>4</th>\n",
       "      <td>6440.6</td>\n",
       "      <td>5.63</td>\n",
       "      <td>3.90</td>\n",
       "      <td>37.0</td>\n",
       "      <td>0.6</td>\n",
       "    </tr>\n",
       "  </tbody>\n",
       "</table>\n",
       "</div>"
      ],
      "text/plain": [
       "    Depth  CorrectedPorosity   TOC  Quartz  Calcite\n",
       "0  6432.5               6.67  4.15    38.6      0.0\n",
       "1  6434.5               6.07  4.25    48.6      6.2\n",
       "2  6436.5               4.91  3.40    41.0      2.5\n",
       "3  6438.5               6.00  0.39     4.6     66.4\n",
       "4  6440.6               5.63  3.90    37.0      0.6"
      ]
     },
     "execution_count": 8,
     "metadata": {},
     "output_type": "execute_result"
    }
   ],
   "source": [
    "data_df.head()"
   ]
  },
  {
   "cell_type": "code",
   "execution_count": 9,
   "id": "eb49c748",
   "metadata": {},
   "outputs": [
    {
     "data": {
      "text/html": [
       "<div>\n",
       "<style scoped>\n",
       "    .dataframe tbody tr th:only-of-type {\n",
       "        vertical-align: middle;\n",
       "    }\n",
       "\n",
       "    .dataframe tbody tr th {\n",
       "        vertical-align: top;\n",
       "    }\n",
       "\n",
       "    .dataframe thead th {\n",
       "        text-align: right;\n",
       "    }\n",
       "</style>\n",
       "<table border=\"1\" class=\"dataframe\">\n",
       "  <thead>\n",
       "    <tr style=\"text-align: right;\">\n",
       "      <th></th>\n",
       "      <th>Depth</th>\n",
       "      <th>CorrectedPorosity</th>\n",
       "      <th>TOC</th>\n",
       "      <th>Quartz</th>\n",
       "      <th>Calcite</th>\n",
       "    </tr>\n",
       "  </thead>\n",
       "  <tbody>\n",
       "    <tr>\n",
       "      <th>162</th>\n",
       "      <td>6773.9</td>\n",
       "      <td>3.77</td>\n",
       "      <td>2.06</td>\n",
       "      <td>26.7</td>\n",
       "      <td>15.4</td>\n",
       "    </tr>\n",
       "    <tr>\n",
       "      <th>163</th>\n",
       "      <td>6775.1</td>\n",
       "      <td>4.60</td>\n",
       "      <td>3.52</td>\n",
       "      <td>31.0</td>\n",
       "      <td>0.0</td>\n",
       "    </tr>\n",
       "    <tr>\n",
       "      <th>164</th>\n",
       "      <td>6780.6</td>\n",
       "      <td>4.16</td>\n",
       "      <td>2.47</td>\n",
       "      <td>16.0</td>\n",
       "      <td>8.7</td>\n",
       "    </tr>\n",
       "    <tr>\n",
       "      <th>165</th>\n",
       "      <td>6782.2</td>\n",
       "      <td>2.49</td>\n",
       "      <td>2.32</td>\n",
       "      <td>24.8</td>\n",
       "      <td>19.8</td>\n",
       "    </tr>\n",
       "    <tr>\n",
       "      <th>166</th>\n",
       "      <td>6784.3</td>\n",
       "      <td>2.99</td>\n",
       "      <td>3.66</td>\n",
       "      <td>20.2</td>\n",
       "      <td>11.9</td>\n",
       "    </tr>\n",
       "  </tbody>\n",
       "</table>\n",
       "</div>"
      ],
      "text/plain": [
       "      Depth  CorrectedPorosity   TOC  Quartz  Calcite\n",
       "162  6773.9               3.77  2.06    26.7     15.4\n",
       "163  6775.1               4.60  3.52    31.0      0.0\n",
       "164  6780.6               4.16  2.47    16.0      8.7\n",
       "165  6782.2               2.49  2.32    24.8     19.8\n",
       "166  6784.3               2.99  3.66    20.2     11.9"
      ]
     },
     "execution_count": 9,
     "metadata": {},
     "output_type": "execute_result"
    }
   ],
   "source": [
    "data_df.tail()"
   ]
  },
  {
   "cell_type": "code",
   "execution_count": 20,
   "id": "e33b0d9e",
   "metadata": {},
   "outputs": [
    {
     "data": {
      "text/plain": [
       "(167, 5)"
      ]
     },
     "execution_count": 20,
     "metadata": {},
     "output_type": "execute_result"
    }
   ],
   "source": [
    "data_df.shape"
   ]
  },
  {
   "cell_type": "code",
   "execution_count": 21,
   "id": "1bc9602e",
   "metadata": {},
   "outputs": [
    {
     "data": {
      "text/plain": [
       "5"
      ]
     },
     "execution_count": 21,
     "metadata": {},
     "output_type": "execute_result"
    }
   ],
   "source": [
    "data_df.shape[1]"
   ]
  },
  {
   "cell_type": "code",
   "execution_count": 22,
   "id": "9009994f",
   "metadata": {},
   "outputs": [
    {
     "data": {
      "text/plain": [
       "167"
      ]
     },
     "execution_count": 22,
     "metadata": {},
     "output_type": "execute_result"
    }
   ],
   "source": [
    "data_df.shape[0]"
   ]
  },
  {
   "cell_type": "code",
   "execution_count": 25,
   "id": "38e738c1",
   "metadata": {},
   "outputs": [
    {
     "name": "stdout",
     "output_type": "stream",
     "text": [
      "<class 'pandas.core.frame.DataFrame'>\n",
      "RangeIndex: 167 entries, 0 to 166\n",
      "Data columns (total 5 columns):\n",
      " #   Column             Non-Null Count  Dtype  \n",
      "---  ------             --------------  -----  \n",
      " 0   Depth              167 non-null    float64\n",
      " 1   CorrectedPorosity  167 non-null    float64\n",
      " 2   TOC                167 non-null    float64\n",
      " 3   Quartz             167 non-null    float64\n",
      " 4   Calcite            167 non-null    float64\n",
      "dtypes: float64(5)\n",
      "memory usage: 6.6 KB\n"
     ]
    }
   ],
   "source": [
    "data_df.info()"
   ]
  },
  {
   "cell_type": "code",
   "execution_count": 26,
   "id": "65df1401",
   "metadata": {},
   "outputs": [],
   "source": [
    "df = data_df.copy()"
   ]
  },
  {
   "cell_type": "code",
   "execution_count": 27,
   "id": "48ca24b3",
   "metadata": {},
   "outputs": [
    {
     "data": {
      "text/html": [
       "<div>\n",
       "<style scoped>\n",
       "    .dataframe tbody tr th:only-of-type {\n",
       "        vertical-align: middle;\n",
       "    }\n",
       "\n",
       "    .dataframe tbody tr th {\n",
       "        vertical-align: top;\n",
       "    }\n",
       "\n",
       "    .dataframe thead th {\n",
       "        text-align: right;\n",
       "    }\n",
       "</style>\n",
       "<table border=\"1\" class=\"dataframe\">\n",
       "  <thead>\n",
       "    <tr style=\"text-align: right;\">\n",
       "      <th></th>\n",
       "      <th>Depth</th>\n",
       "      <th>CorrectedPorosity</th>\n",
       "      <th>TOC</th>\n",
       "      <th>Quartz</th>\n",
       "      <th>Calcite</th>\n",
       "    </tr>\n",
       "  </thead>\n",
       "  <tbody>\n",
       "    <tr>\n",
       "      <th>0</th>\n",
       "      <td>6432.5</td>\n",
       "      <td>6.67</td>\n",
       "      <td>4.15</td>\n",
       "      <td>38.6</td>\n",
       "      <td>0.0</td>\n",
       "    </tr>\n",
       "    <tr>\n",
       "      <th>1</th>\n",
       "      <td>6434.5</td>\n",
       "      <td>6.07</td>\n",
       "      <td>4.25</td>\n",
       "      <td>48.6</td>\n",
       "      <td>6.2</td>\n",
       "    </tr>\n",
       "    <tr>\n",
       "      <th>2</th>\n",
       "      <td>6436.5</td>\n",
       "      <td>4.91</td>\n",
       "      <td>3.40</td>\n",
       "      <td>41.0</td>\n",
       "      <td>2.5</td>\n",
       "    </tr>\n",
       "    <tr>\n",
       "      <th>3</th>\n",
       "      <td>6438.5</td>\n",
       "      <td>6.00</td>\n",
       "      <td>0.39</td>\n",
       "      <td>4.6</td>\n",
       "      <td>66.4</td>\n",
       "    </tr>\n",
       "    <tr>\n",
       "      <th>4</th>\n",
       "      <td>6440.6</td>\n",
       "      <td>5.63</td>\n",
       "      <td>3.90</td>\n",
       "      <td>37.0</td>\n",
       "      <td>0.6</td>\n",
       "    </tr>\n",
       "    <tr>\n",
       "      <th>...</th>\n",
       "      <td>...</td>\n",
       "      <td>...</td>\n",
       "      <td>...</td>\n",
       "      <td>...</td>\n",
       "      <td>...</td>\n",
       "    </tr>\n",
       "    <tr>\n",
       "      <th>162</th>\n",
       "      <td>6773.9</td>\n",
       "      <td>3.77</td>\n",
       "      <td>2.06</td>\n",
       "      <td>26.7</td>\n",
       "      <td>15.4</td>\n",
       "    </tr>\n",
       "    <tr>\n",
       "      <th>163</th>\n",
       "      <td>6775.1</td>\n",
       "      <td>4.60</td>\n",
       "      <td>3.52</td>\n",
       "      <td>31.0</td>\n",
       "      <td>0.0</td>\n",
       "    </tr>\n",
       "    <tr>\n",
       "      <th>164</th>\n",
       "      <td>6780.6</td>\n",
       "      <td>4.16</td>\n",
       "      <td>2.47</td>\n",
       "      <td>16.0</td>\n",
       "      <td>8.7</td>\n",
       "    </tr>\n",
       "    <tr>\n",
       "      <th>165</th>\n",
       "      <td>6782.2</td>\n",
       "      <td>2.49</td>\n",
       "      <td>2.32</td>\n",
       "      <td>24.8</td>\n",
       "      <td>19.8</td>\n",
       "    </tr>\n",
       "    <tr>\n",
       "      <th>166</th>\n",
       "      <td>6784.3</td>\n",
       "      <td>2.99</td>\n",
       "      <td>3.66</td>\n",
       "      <td>20.2</td>\n",
       "      <td>11.9</td>\n",
       "    </tr>\n",
       "  </tbody>\n",
       "</table>\n",
       "<p>167 rows × 5 columns</p>\n",
       "</div>"
      ],
      "text/plain": [
       "      Depth  CorrectedPorosity   TOC  Quartz  Calcite\n",
       "0    6432.5               6.67  4.15    38.6      0.0\n",
       "1    6434.5               6.07  4.25    48.6      6.2\n",
       "2    6436.5               4.91  3.40    41.0      2.5\n",
       "3    6438.5               6.00  0.39     4.6     66.4\n",
       "4    6440.6               5.63  3.90    37.0      0.6\n",
       "..      ...                ...   ...     ...      ...\n",
       "162  6773.9               3.77  2.06    26.7     15.4\n",
       "163  6775.1               4.60  3.52    31.0      0.0\n",
       "164  6780.6               4.16  2.47    16.0      8.7\n",
       "165  6782.2               2.49  2.32    24.8     19.8\n",
       "166  6784.3               2.99  3.66    20.2     11.9\n",
       "\n",
       "[167 rows x 5 columns]"
      ]
     },
     "execution_count": 27,
     "metadata": {},
     "output_type": "execute_result"
    }
   ],
   "source": [
    "df"
   ]
  },
  {
   "cell_type": "code",
   "execution_count": 28,
   "id": "99a79a78",
   "metadata": {},
   "outputs": [
    {
     "data": {
      "text/plain": [
       "Index(['Depth', 'CorrectedPorosity', 'TOC', 'Quartz', 'Calcite'], dtype='object')"
      ]
     },
     "execution_count": 28,
     "metadata": {},
     "output_type": "execute_result"
    }
   ],
   "source": [
    "df.columns"
   ]
  },
  {
   "cell_type": "code",
   "execution_count": 31,
   "id": "bbfcafbb",
   "metadata": {},
   "outputs": [],
   "source": [
    "sorted_porosity = df.sort_values(by='CorrectedPorosity', ascending=True)"
   ]
  },
  {
   "cell_type": "code",
   "execution_count": 32,
   "id": "e10174ec",
   "metadata": {},
   "outputs": [
    {
     "data": {
      "text/html": [
       "<div>\n",
       "<style scoped>\n",
       "    .dataframe tbody tr th:only-of-type {\n",
       "        vertical-align: middle;\n",
       "    }\n",
       "\n",
       "    .dataframe tbody tr th {\n",
       "        vertical-align: top;\n",
       "    }\n",
       "\n",
       "    .dataframe thead th {\n",
       "        text-align: right;\n",
       "    }\n",
       "</style>\n",
       "<table border=\"1\" class=\"dataframe\">\n",
       "  <thead>\n",
       "    <tr style=\"text-align: right;\">\n",
       "      <th></th>\n",
       "      <th>Depth</th>\n",
       "      <th>CorrectedPorosity</th>\n",
       "      <th>TOC</th>\n",
       "      <th>Quartz</th>\n",
       "      <th>Calcite</th>\n",
       "    </tr>\n",
       "  </thead>\n",
       "  <tbody>\n",
       "    <tr>\n",
       "      <th>6</th>\n",
       "      <td>6444.5</td>\n",
       "      <td>0.88</td>\n",
       "      <td>3.50</td>\n",
       "      <td>29.3</td>\n",
       "      <td>5.5</td>\n",
       "    </tr>\n",
       "    <tr>\n",
       "      <th>152</th>\n",
       "      <td>6745.9</td>\n",
       "      <td>1.35</td>\n",
       "      <td>1.70</td>\n",
       "      <td>6.4</td>\n",
       "      <td>67.0</td>\n",
       "    </tr>\n",
       "    <tr>\n",
       "      <th>132</th>\n",
       "      <td>6700.0</td>\n",
       "      <td>1.41</td>\n",
       "      <td>0.72</td>\n",
       "      <td>5.2</td>\n",
       "      <td>75.7</td>\n",
       "    </tr>\n",
       "    <tr>\n",
       "      <th>78</th>\n",
       "      <td>6585.3</td>\n",
       "      <td>1.41</td>\n",
       "      <td>4.91</td>\n",
       "      <td>25.5</td>\n",
       "      <td>2.9</td>\n",
       "    </tr>\n",
       "    <tr>\n",
       "      <th>54</th>\n",
       "      <td>6540.0</td>\n",
       "      <td>1.47</td>\n",
       "      <td>1.24</td>\n",
       "      <td>14.4</td>\n",
       "      <td>28.5</td>\n",
       "    </tr>\n",
       "  </tbody>\n",
       "</table>\n",
       "</div>"
      ],
      "text/plain": [
       "      Depth  CorrectedPorosity   TOC  Quartz  Calcite\n",
       "6    6444.5               0.88  3.50    29.3      5.5\n",
       "152  6745.9               1.35  1.70     6.4     67.0\n",
       "132  6700.0               1.41  0.72     5.2     75.7\n",
       "78   6585.3               1.41  4.91    25.5      2.9\n",
       "54   6540.0               1.47  1.24    14.4     28.5"
      ]
     },
     "execution_count": 32,
     "metadata": {},
     "output_type": "execute_result"
    }
   ],
   "source": [
    "sorted_porosity.head()"
   ]
  },
  {
   "cell_type": "code",
   "execution_count": null,
   "id": "afc943a0",
   "metadata": {},
   "outputs": [],
   "source": [
    "sorted_porosity = df.sort_values(by='CorrectedPorosity', ascending=False)"
   ]
  },
  {
   "cell_type": "code",
   "execution_count": 33,
   "id": "08b10532",
   "metadata": {},
   "outputs": [
    {
     "data": {
      "text/html": [
       "<div>\n",
       "<style scoped>\n",
       "    .dataframe tbody tr th:only-of-type {\n",
       "        vertical-align: middle;\n",
       "    }\n",
       "\n",
       "    .dataframe tbody tr th {\n",
       "        vertical-align: top;\n",
       "    }\n",
       "\n",
       "    .dataframe thead th {\n",
       "        text-align: right;\n",
       "    }\n",
       "</style>\n",
       "<table border=\"1\" class=\"dataframe\">\n",
       "  <thead>\n",
       "    <tr style=\"text-align: right;\">\n",
       "      <th></th>\n",
       "      <th>Depth</th>\n",
       "      <th>CorrectedPorosity</th>\n",
       "      <th>TOC</th>\n",
       "      <th>Quartz</th>\n",
       "      <th>Calcite</th>\n",
       "    </tr>\n",
       "  </thead>\n",
       "  <tbody>\n",
       "    <tr>\n",
       "      <th>6</th>\n",
       "      <td>6444.5</td>\n",
       "      <td>0.88</td>\n",
       "      <td>3.50</td>\n",
       "      <td>29.3</td>\n",
       "      <td>5.5</td>\n",
       "    </tr>\n",
       "    <tr>\n",
       "      <th>152</th>\n",
       "      <td>6745.9</td>\n",
       "      <td>1.35</td>\n",
       "      <td>1.70</td>\n",
       "      <td>6.4</td>\n",
       "      <td>67.0</td>\n",
       "    </tr>\n",
       "    <tr>\n",
       "      <th>132</th>\n",
       "      <td>6700.0</td>\n",
       "      <td>1.41</td>\n",
       "      <td>0.72</td>\n",
       "      <td>5.2</td>\n",
       "      <td>75.7</td>\n",
       "    </tr>\n",
       "    <tr>\n",
       "      <th>78</th>\n",
       "      <td>6585.3</td>\n",
       "      <td>1.41</td>\n",
       "      <td>4.91</td>\n",
       "      <td>25.5</td>\n",
       "      <td>2.9</td>\n",
       "    </tr>\n",
       "    <tr>\n",
       "      <th>54</th>\n",
       "      <td>6540.0</td>\n",
       "      <td>1.47</td>\n",
       "      <td>1.24</td>\n",
       "      <td>14.4</td>\n",
       "      <td>28.5</td>\n",
       "    </tr>\n",
       "  </tbody>\n",
       "</table>\n",
       "</div>"
      ],
      "text/plain": [
       "      Depth  CorrectedPorosity   TOC  Quartz  Calcite\n",
       "6    6444.5               0.88  3.50    29.3      5.5\n",
       "152  6745.9               1.35  1.70     6.4     67.0\n",
       "132  6700.0               1.41  0.72     5.2     75.7\n",
       "78   6585.3               1.41  4.91    25.5      2.9\n",
       "54   6540.0               1.47  1.24    14.4     28.5"
      ]
     },
     "execution_count": 33,
     "metadata": {},
     "output_type": "execute_result"
    }
   ],
   "source": [
    "sorted_porosity.head()"
   ]
  },
  {
   "cell_type": "code",
   "execution_count": null,
   "id": "6273340b",
   "metadata": {},
   "outputs": [],
   "source": [
    "sorted_porosity = df.sort_values(by='CorrectedPorosity', ascending=False)"
   ]
  },
  {
   "cell_type": "code",
   "execution_count": 34,
   "id": "ed7bf775",
   "metadata": {},
   "outputs": [
    {
     "data": {
      "text/html": [
       "<div>\n",
       "<style scoped>\n",
       "    .dataframe tbody tr th:only-of-type {\n",
       "        vertical-align: middle;\n",
       "    }\n",
       "\n",
       "    .dataframe tbody tr th {\n",
       "        vertical-align: top;\n",
       "    }\n",
       "\n",
       "    .dataframe thead th {\n",
       "        text-align: right;\n",
       "    }\n",
       "</style>\n",
       "<table border=\"1\" class=\"dataframe\">\n",
       "  <thead>\n",
       "    <tr style=\"text-align: right;\">\n",
       "      <th></th>\n",
       "      <th>Depth</th>\n",
       "      <th>CorrectedPorosity</th>\n",
       "      <th>TOC</th>\n",
       "      <th>Quartz</th>\n",
       "      <th>Calcite</th>\n",
       "    </tr>\n",
       "  </thead>\n",
       "  <tbody>\n",
       "    <tr>\n",
       "      <th>85</th>\n",
       "      <td>6598.10</td>\n",
       "      <td>6.71</td>\n",
       "      <td>4.11</td>\n",
       "      <td>51.4</td>\n",
       "      <td>0.0</td>\n",
       "    </tr>\n",
       "    <tr>\n",
       "      <th>57</th>\n",
       "      <td>6544.10</td>\n",
       "      <td>6.86</td>\n",
       "      <td>4.42</td>\n",
       "      <td>54.7</td>\n",
       "      <td>0.0</td>\n",
       "    </tr>\n",
       "    <tr>\n",
       "      <th>84</th>\n",
       "      <td>6596.05</td>\n",
       "      <td>7.02</td>\n",
       "      <td>3.38</td>\n",
       "      <td>38.0</td>\n",
       "      <td>0.0</td>\n",
       "    </tr>\n",
       "    <tr>\n",
       "      <th>56</th>\n",
       "      <td>6543.00</td>\n",
       "      <td>7.11</td>\n",
       "      <td>3.91</td>\n",
       "      <td>59.4</td>\n",
       "      <td>0.0</td>\n",
       "    </tr>\n",
       "    <tr>\n",
       "      <th>105</th>\n",
       "      <td>6641.70</td>\n",
       "      <td>8.05</td>\n",
       "      <td>3.48</td>\n",
       "      <td>26.5</td>\n",
       "      <td>0.0</td>\n",
       "    </tr>\n",
       "  </tbody>\n",
       "</table>\n",
       "</div>"
      ],
      "text/plain": [
       "       Depth  CorrectedPorosity   TOC  Quartz  Calcite\n",
       "85   6598.10               6.71  4.11    51.4      0.0\n",
       "57   6544.10               6.86  4.42    54.7      0.0\n",
       "84   6596.05               7.02  3.38    38.0      0.0\n",
       "56   6543.00               7.11  3.91    59.4      0.0\n",
       "105  6641.70               8.05  3.48    26.5      0.0"
      ]
     },
     "execution_count": 34,
     "metadata": {},
     "output_type": "execute_result"
    }
   ],
   "source": [
    "sorted_porosity.tail()"
   ]
  },
  {
   "cell_type": "code",
   "execution_count": 35,
   "id": "33cdc986",
   "metadata": {},
   "outputs": [
    {
     "data": {
      "text/html": [
       "<div>\n",
       "<style scoped>\n",
       "    .dataframe tbody tr th:only-of-type {\n",
       "        vertical-align: middle;\n",
       "    }\n",
       "\n",
       "    .dataframe tbody tr th {\n",
       "        vertical-align: top;\n",
       "    }\n",
       "\n",
       "    .dataframe thead th {\n",
       "        text-align: right;\n",
       "    }\n",
       "</style>\n",
       "<table border=\"1\" class=\"dataframe\">\n",
       "  <thead>\n",
       "    <tr style=\"text-align: right;\">\n",
       "      <th></th>\n",
       "      <th>Depth</th>\n",
       "      <th>CorrectedPorosity</th>\n",
       "      <th>TOC</th>\n",
       "      <th>Quartz</th>\n",
       "      <th>Calcite</th>\n",
       "    </tr>\n",
       "  </thead>\n",
       "  <tbody>\n",
       "    <tr>\n",
       "      <th>count</th>\n",
       "      <td>167.000000</td>\n",
       "      <td>167.000000</td>\n",
       "      <td>167.000000</td>\n",
       "      <td>167.000000</td>\n",
       "      <td>167.000000</td>\n",
       "    </tr>\n",
       "    <tr>\n",
       "      <th>mean</th>\n",
       "      <td>6599.828144</td>\n",
       "      <td>4.262934</td>\n",
       "      <td>3.770778</td>\n",
       "      <td>27.963473</td>\n",
       "      <td>12.122156</td>\n",
       "    </tr>\n",
       "    <tr>\n",
       "      <th>std</th>\n",
       "      <td>99.953163</td>\n",
       "      <td>1.349560</td>\n",
       "      <td>1.625806</td>\n",
       "      <td>13.875863</td>\n",
       "      <td>19.819573</td>\n",
       "    </tr>\n",
       "    <tr>\n",
       "      <th>min</th>\n",
       "      <td>6432.500000</td>\n",
       "      <td>0.880000</td>\n",
       "      <td>0.390000</td>\n",
       "      <td>0.000000</td>\n",
       "      <td>0.000000</td>\n",
       "    </tr>\n",
       "    <tr>\n",
       "      <th>25%</th>\n",
       "      <td>6516.150000</td>\n",
       "      <td>3.405000</td>\n",
       "      <td>2.680000</td>\n",
       "      <td>17.450000</td>\n",
       "      <td>0.000000</td>\n",
       "    </tr>\n",
       "    <tr>\n",
       "      <th>50%</th>\n",
       "      <td>6594.600000</td>\n",
       "      <td>4.390000</td>\n",
       "      <td>3.900000</td>\n",
       "      <td>29.700000</td>\n",
       "      <td>2.400000</td>\n",
       "    </tr>\n",
       "    <tr>\n",
       "      <th>75%</th>\n",
       "      <td>6683.000000</td>\n",
       "      <td>5.205000</td>\n",
       "      <td>4.915000</td>\n",
       "      <td>38.300000</td>\n",
       "      <td>12.700000</td>\n",
       "    </tr>\n",
       "    <tr>\n",
       "      <th>max</th>\n",
       "      <td>6784.300000</td>\n",
       "      <td>8.050000</td>\n",
       "      <td>7.480000</td>\n",
       "      <td>59.400000</td>\n",
       "      <td>78.600000</td>\n",
       "    </tr>\n",
       "  </tbody>\n",
       "</table>\n",
       "</div>"
      ],
      "text/plain": [
       "             Depth  CorrectedPorosity         TOC      Quartz     Calcite\n",
       "count   167.000000         167.000000  167.000000  167.000000  167.000000\n",
       "mean   6599.828144           4.262934    3.770778   27.963473   12.122156\n",
       "std      99.953163           1.349560    1.625806   13.875863   19.819573\n",
       "min    6432.500000           0.880000    0.390000    0.000000    0.000000\n",
       "25%    6516.150000           3.405000    2.680000   17.450000    0.000000\n",
       "50%    6594.600000           4.390000    3.900000   29.700000    2.400000\n",
       "75%    6683.000000           5.205000    4.915000   38.300000   12.700000\n",
       "max    6784.300000           8.050000    7.480000   59.400000   78.600000"
      ]
     },
     "execution_count": 35,
     "metadata": {},
     "output_type": "execute_result"
    }
   ],
   "source": [
    "df.describe()"
   ]
  },
  {
   "cell_type": "code",
   "execution_count": 39,
   "id": "ba89b824",
   "metadata": {},
   "outputs": [
    {
     "data": {
      "text/plain": [
       "0.39"
      ]
     },
     "execution_count": 39,
     "metadata": {},
     "output_type": "execute_result"
    }
   ],
   "source": [
    "df.TOC.min()"
   ]
  },
  {
   "cell_type": "code",
   "execution_count": 40,
   "id": "58237c57",
   "metadata": {},
   "outputs": [
    {
     "data": {
      "text/plain": [
       "167"
      ]
     },
     "execution_count": 40,
     "metadata": {},
     "output_type": "execute_result"
    }
   ],
   "source": [
    "df.TOC.count()"
   ]
  },
  {
   "cell_type": "code",
   "execution_count": 41,
   "id": "93a9143d",
   "metadata": {},
   "outputs": [
    {
     "data": {
      "text/plain": [
       "3.7707784431137727"
      ]
     },
     "execution_count": 41,
     "metadata": {},
     "output_type": "execute_result"
    }
   ],
   "source": [
    "df.TOC.mean()"
   ]
  },
  {
   "cell_type": "code",
   "execution_count": 42,
   "id": "876281d1",
   "metadata": {},
   "outputs": [
    {
     "data": {
      "text/plain": [
       "1.6258061926066227"
      ]
     },
     "execution_count": 42,
     "metadata": {},
     "output_type": "execute_result"
    }
   ],
   "source": [
    "df.TOC.std()"
   ]
  },
  {
   "cell_type": "code",
   "execution_count": 43,
   "id": "8ad582fe",
   "metadata": {},
   "outputs": [
    {
     "data": {
      "text/plain": [
       "7.48"
      ]
     },
     "execution_count": 43,
     "metadata": {},
     "output_type": "execute_result"
    }
   ],
   "source": [
    "df.TOC.max()"
   ]
  },
  {
   "cell_type": "code",
   "execution_count": 44,
   "id": "7827aa8c",
   "metadata": {},
   "outputs": [
    {
     "data": {
      "text/plain": [
       "array([4.15, 4.25, 3.4 , 0.39, 3.9 , 3.95, 3.5 , 4.12, 3.61, 5.92, 3.15,\n",
       "       4.68, 2.49, 1.7 , 3.49, 2.5 , 1.51, 0.83, 1.14, 1.29, 1.44, 0.49,\n",
       "       0.64, 0.8 , 0.92, 0.53, 1.09, 1.12, 2.84, 2.23, 2.87, 2.17, 1.67,\n",
       "       1.07, 2.34, 2.44, 2.69, 1.11, 0.97, 3.46, 3.23, 4.72, 2.57, 4.78,\n",
       "       5.58, 3.2 , 6.01, 5.2 , 4.87, 4.36, 1.24, 5.15, 3.91, 4.42, 3.59,\n",
       "       4.69, 3.96, 2.9 , 2.  , 3.86, 5.02, 3.35, 1.3 , 3.72, 4.53, 4.66,\n",
       "       5.18, 5.76, 5.09, 2.97, 4.91, 3.89, 2.64, 4.  , 3.71, 3.38, 4.11,\n",
       "       5.3 , 4.5 , 1.79, 3.79, 4.06, 3.66, 2.82, 4.61, 5.35, 4.27, 6.23,\n",
       "       4.64, 5.41, 1.98, 4.62, 5.55, 3.43, 3.48, 4.85, 4.94, 4.99, 4.92,\n",
       "       6.76, 5.86, 5.49, 6.81, 3.67, 6.77, 5.83, 6.69, 7.48, 7.21, 5.71,\n",
       "       5.01, 4.18, 4.98, 5.1 , 5.79, 0.72, 6.31, 3.55, 6.94, 3.8 , 5.11,\n",
       "       5.07, 6.73, 5.39, 2.73, 4.88, 2.67, 3.09, 4.38, 6.75, 3.94, 4.86,\n",
       "       1.75, 2.83, 3.42, 4.56, 2.78, 2.91, 1.53, 2.06, 3.52, 2.47, 2.32])"
      ]
     },
     "execution_count": 44,
     "metadata": {},
     "output_type": "execute_result"
    }
   ],
   "source": [
    "df.TOC.unique()"
   ]
  },
  {
   "cell_type": "code",
   "execution_count": 46,
   "id": "5ea38664",
   "metadata": {},
   "outputs": [
    {
     "data": {
      "text/plain": [
       "1.70    3\n",
       "3.90    3\n",
       "3.95    3\n",
       "3.72    3\n",
       "5.09    2\n",
       "       ..\n",
       "6.01    1\n",
       "3.20    1\n",
       "5.58    1\n",
       "2.57    1\n",
       "2.32    1\n",
       "Name: TOC, Length: 143, dtype: int64"
      ]
     },
     "execution_count": 46,
     "metadata": {},
     "output_type": "execute_result"
    }
   ],
   "source": [
    "df.TOC.value_counts()"
   ]
  },
  {
   "cell_type": "code",
   "execution_count": 47,
   "id": "5bf2f499",
   "metadata": {},
   "outputs": [
    {
     "data": {
      "text/html": [
       "<div>\n",
       "<style scoped>\n",
       "    .dataframe tbody tr th:only-of-type {\n",
       "        vertical-align: middle;\n",
       "    }\n",
       "\n",
       "    .dataframe tbody tr th {\n",
       "        vertical-align: top;\n",
       "    }\n",
       "\n",
       "    .dataframe thead th {\n",
       "        text-align: right;\n",
       "    }\n",
       "</style>\n",
       "<table border=\"1\" class=\"dataframe\">\n",
       "  <thead>\n",
       "    <tr style=\"text-align: right;\">\n",
       "      <th></th>\n",
       "      <th>Depth</th>\n",
       "      <th>CorrectedPorosity</th>\n",
       "      <th>TOC</th>\n",
       "      <th>Quartz</th>\n",
       "      <th>Calcite</th>\n",
       "    </tr>\n",
       "  </thead>\n",
       "  <tbody>\n",
       "    <tr>\n",
       "      <th>0</th>\n",
       "      <td>6432.5</td>\n",
       "      <td>6.67</td>\n",
       "      <td>4.15</td>\n",
       "      <td>38.6</td>\n",
       "      <td>0.0</td>\n",
       "    </tr>\n",
       "    <tr>\n",
       "      <th>1</th>\n",
       "      <td>6434.5</td>\n",
       "      <td>6.07</td>\n",
       "      <td>4.25</td>\n",
       "      <td>48.6</td>\n",
       "      <td>6.2</td>\n",
       "    </tr>\n",
       "    <tr>\n",
       "      <th>2</th>\n",
       "      <td>6436.5</td>\n",
       "      <td>4.91</td>\n",
       "      <td>3.40</td>\n",
       "      <td>41.0</td>\n",
       "      <td>2.5</td>\n",
       "    </tr>\n",
       "    <tr>\n",
       "      <th>3</th>\n",
       "      <td>6438.5</td>\n",
       "      <td>6.00</td>\n",
       "      <td>0.39</td>\n",
       "      <td>4.6</td>\n",
       "      <td>66.4</td>\n",
       "    </tr>\n",
       "    <tr>\n",
       "      <th>4</th>\n",
       "      <td>6440.6</td>\n",
       "      <td>5.63</td>\n",
       "      <td>3.90</td>\n",
       "      <td>37.0</td>\n",
       "      <td>0.6</td>\n",
       "    </tr>\n",
       "  </tbody>\n",
       "</table>\n",
       "</div>"
      ],
      "text/plain": [
       "    Depth  CorrectedPorosity   TOC  Quartz  Calcite\n",
       "0  6432.5               6.67  4.15    38.6      0.0\n",
       "1  6434.5               6.07  4.25    48.6      6.2\n",
       "2  6436.5               4.91  3.40    41.0      2.5\n",
       "3  6438.5               6.00  0.39     4.6     66.4\n",
       "4  6440.6               5.63  3.90    37.0      0.6"
      ]
     },
     "execution_count": 47,
     "metadata": {},
     "output_type": "execute_result"
    }
   ],
   "source": [
    "df.head()"
   ]
  },
  {
   "cell_type": "code",
   "execution_count": 49,
   "id": "2aa82948",
   "metadata": {},
   "outputs": [
    {
     "data": {
      "text/html": [
       "<div>\n",
       "<style scoped>\n",
       "    .dataframe tbody tr th:only-of-type {\n",
       "        vertical-align: middle;\n",
       "    }\n",
       "\n",
       "    .dataframe tbody tr th {\n",
       "        vertical-align: top;\n",
       "    }\n",
       "\n",
       "    .dataframe thead th {\n",
       "        text-align: right;\n",
       "    }\n",
       "</style>\n",
       "<table border=\"1\" class=\"dataframe\">\n",
       "  <thead>\n",
       "    <tr style=\"text-align: right;\">\n",
       "      <th></th>\n",
       "      <th>TOC</th>\n",
       "      <th>Quartz</th>\n",
       "    </tr>\n",
       "  </thead>\n",
       "  <tbody>\n",
       "    <tr>\n",
       "      <th>0</th>\n",
       "      <td>4.15</td>\n",
       "      <td>38.6</td>\n",
       "    </tr>\n",
       "    <tr>\n",
       "      <th>1</th>\n",
       "      <td>4.25</td>\n",
       "      <td>48.6</td>\n",
       "    </tr>\n",
       "    <tr>\n",
       "      <th>2</th>\n",
       "      <td>3.40</td>\n",
       "      <td>41.0</td>\n",
       "    </tr>\n",
       "    <tr>\n",
       "      <th>3</th>\n",
       "      <td>0.39</td>\n",
       "      <td>4.6</td>\n",
       "    </tr>\n",
       "    <tr>\n",
       "      <th>4</th>\n",
       "      <td>3.90</td>\n",
       "      <td>37.0</td>\n",
       "    </tr>\n",
       "    <tr>\n",
       "      <th>...</th>\n",
       "      <td>...</td>\n",
       "      <td>...</td>\n",
       "    </tr>\n",
       "    <tr>\n",
       "      <th>162</th>\n",
       "      <td>2.06</td>\n",
       "      <td>26.7</td>\n",
       "    </tr>\n",
       "    <tr>\n",
       "      <th>163</th>\n",
       "      <td>3.52</td>\n",
       "      <td>31.0</td>\n",
       "    </tr>\n",
       "    <tr>\n",
       "      <th>164</th>\n",
       "      <td>2.47</td>\n",
       "      <td>16.0</td>\n",
       "    </tr>\n",
       "    <tr>\n",
       "      <th>165</th>\n",
       "      <td>2.32</td>\n",
       "      <td>24.8</td>\n",
       "    </tr>\n",
       "    <tr>\n",
       "      <th>166</th>\n",
       "      <td>3.66</td>\n",
       "      <td>20.2</td>\n",
       "    </tr>\n",
       "  </tbody>\n",
       "</table>\n",
       "<p>167 rows × 2 columns</p>\n",
       "</div>"
      ],
      "text/plain": [
       "      TOC  Quartz\n",
       "0    4.15    38.6\n",
       "1    4.25    48.6\n",
       "2    3.40    41.0\n",
       "3    0.39     4.6\n",
       "4    3.90    37.0\n",
       "..    ...     ...\n",
       "162  2.06    26.7\n",
       "163  3.52    31.0\n",
       "164  2.47    16.0\n",
       "165  2.32    24.8\n",
       "166  3.66    20.2\n",
       "\n",
       "[167 rows x 2 columns]"
      ]
     },
     "execution_count": 49,
     "metadata": {},
     "output_type": "execute_result"
    }
   ],
   "source": [
    "df.iloc[:, 2:4]"
   ]
  },
  {
   "cell_type": "code",
   "execution_count": 50,
   "id": "314ba51e",
   "metadata": {},
   "outputs": [
    {
     "data": {
      "text/html": [
       "<div>\n",
       "<style scoped>\n",
       "    .dataframe tbody tr th:only-of-type {\n",
       "        vertical-align: middle;\n",
       "    }\n",
       "\n",
       "    .dataframe tbody tr th {\n",
       "        vertical-align: top;\n",
       "    }\n",
       "\n",
       "    .dataframe thead th {\n",
       "        text-align: right;\n",
       "    }\n",
       "</style>\n",
       "<table border=\"1\" class=\"dataframe\">\n",
       "  <thead>\n",
       "    <tr style=\"text-align: right;\">\n",
       "      <th></th>\n",
       "      <th>TOC</th>\n",
       "      <th>Quartz</th>\n",
       "    </tr>\n",
       "  </thead>\n",
       "  <tbody>\n",
       "    <tr>\n",
       "      <th>162</th>\n",
       "      <td>2.06</td>\n",
       "      <td>26.7</td>\n",
       "    </tr>\n",
       "    <tr>\n",
       "      <th>163</th>\n",
       "      <td>3.52</td>\n",
       "      <td>31.0</td>\n",
       "    </tr>\n",
       "    <tr>\n",
       "      <th>164</th>\n",
       "      <td>2.47</td>\n",
       "      <td>16.0</td>\n",
       "    </tr>\n",
       "    <tr>\n",
       "      <th>165</th>\n",
       "      <td>2.32</td>\n",
       "      <td>24.8</td>\n",
       "    </tr>\n",
       "    <tr>\n",
       "      <th>166</th>\n",
       "      <td>3.66</td>\n",
       "      <td>20.2</td>\n",
       "    </tr>\n",
       "  </tbody>\n",
       "</table>\n",
       "</div>"
      ],
      "text/plain": [
       "      TOC  Quartz\n",
       "162  2.06    26.7\n",
       "163  3.52    31.0\n",
       "164  2.47    16.0\n",
       "165  2.32    24.8\n",
       "166  3.66    20.2"
      ]
     },
     "execution_count": 50,
     "metadata": {},
     "output_type": "execute_result"
    }
   ],
   "source": [
    "df.iloc[:, 2:4].tail()"
   ]
  },
  {
   "cell_type": "code",
   "execution_count": 53,
   "id": "94460ffc",
   "metadata": {},
   "outputs": [
    {
     "data": {
      "text/html": [
       "<div>\n",
       "<style scoped>\n",
       "    .dataframe tbody tr th:only-of-type {\n",
       "        vertical-align: middle;\n",
       "    }\n",
       "\n",
       "    .dataframe tbody tr th {\n",
       "        vertical-align: top;\n",
       "    }\n",
       "\n",
       "    .dataframe thead th {\n",
       "        text-align: right;\n",
       "    }\n",
       "</style>\n",
       "<table border=\"1\" class=\"dataframe\">\n",
       "  <thead>\n",
       "    <tr style=\"text-align: right;\">\n",
       "      <th></th>\n",
       "      <th>Depth</th>\n",
       "    </tr>\n",
       "  </thead>\n",
       "  <tbody>\n",
       "    <tr>\n",
       "      <th>0</th>\n",
       "      <td>6432.5</td>\n",
       "    </tr>\n",
       "    <tr>\n",
       "      <th>1</th>\n",
       "      <td>6434.5</td>\n",
       "    </tr>\n",
       "    <tr>\n",
       "      <th>2</th>\n",
       "      <td>6436.5</td>\n",
       "    </tr>\n",
       "    <tr>\n",
       "      <th>3</th>\n",
       "      <td>6438.5</td>\n",
       "    </tr>\n",
       "    <tr>\n",
       "      <th>4</th>\n",
       "      <td>6440.6</td>\n",
       "    </tr>\n",
       "    <tr>\n",
       "      <th>...</th>\n",
       "      <td>...</td>\n",
       "    </tr>\n",
       "    <tr>\n",
       "      <th>162</th>\n",
       "      <td>6773.9</td>\n",
       "    </tr>\n",
       "    <tr>\n",
       "      <th>163</th>\n",
       "      <td>6775.1</td>\n",
       "    </tr>\n",
       "    <tr>\n",
       "      <th>164</th>\n",
       "      <td>6780.6</td>\n",
       "    </tr>\n",
       "    <tr>\n",
       "      <th>165</th>\n",
       "      <td>6782.2</td>\n",
       "    </tr>\n",
       "    <tr>\n",
       "      <th>166</th>\n",
       "      <td>6784.3</td>\n",
       "    </tr>\n",
       "  </tbody>\n",
       "</table>\n",
       "<p>167 rows × 1 columns</p>\n",
       "</div>"
      ],
      "text/plain": [
       "      Depth\n",
       "0    6432.5\n",
       "1    6434.5\n",
       "2    6436.5\n",
       "3    6438.5\n",
       "4    6440.6\n",
       "..      ...\n",
       "162  6773.9\n",
       "163  6775.1\n",
       "164  6780.6\n",
       "165  6782.2\n",
       "166  6784.3\n",
       "\n",
       "[167 rows x 1 columns]"
      ]
     },
     "execution_count": 53,
     "metadata": {},
     "output_type": "execute_result"
    }
   ],
   "source": [
    "df.iloc[:, 0:1]"
   ]
  },
  {
   "cell_type": "code",
   "execution_count": 64,
   "id": "3a1d7dfb",
   "metadata": {},
   "outputs": [
    {
     "data": {
      "text/plain": [
       "0    6432.5\n",
       "1    6434.5\n",
       "2    6436.5\n",
       "3    6438.5\n",
       "4    6440.6\n",
       "Name: Depth, dtype: float64"
      ]
     },
     "execution_count": 64,
     "metadata": {},
     "output_type": "execute_result"
    }
   ],
   "source": [
    "df.loc[:, \"Depth\"].head()"
   ]
  },
  {
   "cell_type": "code",
   "execution_count": 65,
   "id": "989e500c",
   "metadata": {},
   "outputs": [
    {
     "data": {
      "text/html": [
       "<div>\n",
       "<style scoped>\n",
       "    .dataframe tbody tr th:only-of-type {\n",
       "        vertical-align: middle;\n",
       "    }\n",
       "\n",
       "    .dataframe tbody tr th {\n",
       "        vertical-align: top;\n",
       "    }\n",
       "\n",
       "    .dataframe thead th {\n",
       "        text-align: right;\n",
       "    }\n",
       "</style>\n",
       "<table border=\"1\" class=\"dataframe\">\n",
       "  <thead>\n",
       "    <tr style=\"text-align: right;\">\n",
       "      <th></th>\n",
       "      <th>Depth</th>\n",
       "      <th>Calcite</th>\n",
       "    </tr>\n",
       "  </thead>\n",
       "  <tbody>\n",
       "    <tr>\n",
       "      <th>0</th>\n",
       "      <td>6432.5</td>\n",
       "      <td>0.0</td>\n",
       "    </tr>\n",
       "    <tr>\n",
       "      <th>1</th>\n",
       "      <td>6434.5</td>\n",
       "      <td>6.2</td>\n",
       "    </tr>\n",
       "    <tr>\n",
       "      <th>2</th>\n",
       "      <td>6436.5</td>\n",
       "      <td>2.5</td>\n",
       "    </tr>\n",
       "    <tr>\n",
       "      <th>3</th>\n",
       "      <td>6438.5</td>\n",
       "      <td>66.4</td>\n",
       "    </tr>\n",
       "    <tr>\n",
       "      <th>4</th>\n",
       "      <td>6440.6</td>\n",
       "      <td>0.6</td>\n",
       "    </tr>\n",
       "    <tr>\n",
       "      <th>...</th>\n",
       "      <td>...</td>\n",
       "      <td>...</td>\n",
       "    </tr>\n",
       "    <tr>\n",
       "      <th>162</th>\n",
       "      <td>6773.9</td>\n",
       "      <td>15.4</td>\n",
       "    </tr>\n",
       "    <tr>\n",
       "      <th>163</th>\n",
       "      <td>6775.1</td>\n",
       "      <td>0.0</td>\n",
       "    </tr>\n",
       "    <tr>\n",
       "      <th>164</th>\n",
       "      <td>6780.6</td>\n",
       "      <td>8.7</td>\n",
       "    </tr>\n",
       "    <tr>\n",
       "      <th>165</th>\n",
       "      <td>6782.2</td>\n",
       "      <td>19.8</td>\n",
       "    </tr>\n",
       "    <tr>\n",
       "      <th>166</th>\n",
       "      <td>6784.3</td>\n",
       "      <td>11.9</td>\n",
       "    </tr>\n",
       "  </tbody>\n",
       "</table>\n",
       "<p>167 rows × 2 columns</p>\n",
       "</div>"
      ],
      "text/plain": [
       "      Depth  Calcite\n",
       "0    6432.5      0.0\n",
       "1    6434.5      6.2\n",
       "2    6436.5      2.5\n",
       "3    6438.5     66.4\n",
       "4    6440.6      0.6\n",
       "..      ...      ...\n",
       "162  6773.9     15.4\n",
       "163  6775.1      0.0\n",
       "164  6780.6      8.7\n",
       "165  6782.2     19.8\n",
       "166  6784.3     11.9\n",
       "\n",
       "[167 rows x 2 columns]"
      ]
     },
     "execution_count": 65,
     "metadata": {},
     "output_type": "execute_result"
    }
   ],
   "source": [
    "df.loc[:, ['Depth', 'Calcite']]"
   ]
  },
  {
   "cell_type": "code",
   "execution_count": 66,
   "id": "6f4df606",
   "metadata": {},
   "outputs": [
    {
     "data": {
      "text/html": [
       "<div>\n",
       "<style scoped>\n",
       "    .dataframe tbody tr th:only-of-type {\n",
       "        vertical-align: middle;\n",
       "    }\n",
       "\n",
       "    .dataframe tbody tr th {\n",
       "        vertical-align: top;\n",
       "    }\n",
       "\n",
       "    .dataframe thead th {\n",
       "        text-align: right;\n",
       "    }\n",
       "</style>\n",
       "<table border=\"1\" class=\"dataframe\">\n",
       "  <thead>\n",
       "    <tr style=\"text-align: right;\">\n",
       "      <th></th>\n",
       "      <th>Depth</th>\n",
       "      <th>Calcite</th>\n",
       "    </tr>\n",
       "  </thead>\n",
       "  <tbody>\n",
       "    <tr>\n",
       "      <th>0</th>\n",
       "      <td>6432.5</td>\n",
       "      <td>0.0</td>\n",
       "    </tr>\n",
       "    <tr>\n",
       "      <th>1</th>\n",
       "      <td>6434.5</td>\n",
       "      <td>6.2</td>\n",
       "    </tr>\n",
       "    <tr>\n",
       "      <th>2</th>\n",
       "      <td>6436.5</td>\n",
       "      <td>2.5</td>\n",
       "    </tr>\n",
       "    <tr>\n",
       "      <th>3</th>\n",
       "      <td>6438.5</td>\n",
       "      <td>66.4</td>\n",
       "    </tr>\n",
       "    <tr>\n",
       "      <th>4</th>\n",
       "      <td>6440.6</td>\n",
       "      <td>0.6</td>\n",
       "    </tr>\n",
       "  </tbody>\n",
       "</table>\n",
       "</div>"
      ],
      "text/plain": [
       "    Depth  Calcite\n",
       "0  6432.5      0.0\n",
       "1  6434.5      6.2\n",
       "2  6436.5      2.5\n",
       "3  6438.5     66.4\n",
       "4  6440.6      0.6"
      ]
     },
     "execution_count": 66,
     "metadata": {},
     "output_type": "execute_result"
    }
   ],
   "source": [
    "df.loc[:, ['Depth', 'Calcite']].head()"
   ]
  },
  {
   "cell_type": "code",
   "execution_count": 67,
   "id": "76ff937e",
   "metadata": {},
   "outputs": [
    {
     "data": {
      "text/html": [
       "<div>\n",
       "<style scoped>\n",
       "    .dataframe tbody tr th:only-of-type {\n",
       "        vertical-align: middle;\n",
       "    }\n",
       "\n",
       "    .dataframe tbody tr th {\n",
       "        vertical-align: top;\n",
       "    }\n",
       "\n",
       "    .dataframe thead th {\n",
       "        text-align: right;\n",
       "    }\n",
       "</style>\n",
       "<table border=\"1\" class=\"dataframe\">\n",
       "  <thead>\n",
       "    <tr style=\"text-align: right;\">\n",
       "      <th></th>\n",
       "      <th>Depth</th>\n",
       "      <th>CorrectedPorosity</th>\n",
       "      <th>TOC</th>\n",
       "    </tr>\n",
       "  </thead>\n",
       "  <tbody>\n",
       "    <tr>\n",
       "      <th>50</th>\n",
       "      <td>6531.70</td>\n",
       "      <td>4.80</td>\n",
       "      <td>4.68</td>\n",
       "    </tr>\n",
       "    <tr>\n",
       "      <th>51</th>\n",
       "      <td>6534.00</td>\n",
       "      <td>4.38</td>\n",
       "      <td>5.20</td>\n",
       "    </tr>\n",
       "    <tr>\n",
       "      <th>52</th>\n",
       "      <td>6535.80</td>\n",
       "      <td>4.46</td>\n",
       "      <td>4.87</td>\n",
       "    </tr>\n",
       "    <tr>\n",
       "      <th>53</th>\n",
       "      <td>6538.00</td>\n",
       "      <td>4.14</td>\n",
       "      <td>4.36</td>\n",
       "    </tr>\n",
       "    <tr>\n",
       "      <th>54</th>\n",
       "      <td>6540.00</td>\n",
       "      <td>1.47</td>\n",
       "      <td>1.24</td>\n",
       "    </tr>\n",
       "    <tr>\n",
       "      <th>55</th>\n",
       "      <td>6542.10</td>\n",
       "      <td>5.88</td>\n",
       "      <td>5.15</td>\n",
       "    </tr>\n",
       "    <tr>\n",
       "      <th>56</th>\n",
       "      <td>6543.00</td>\n",
       "      <td>7.11</td>\n",
       "      <td>3.91</td>\n",
       "    </tr>\n",
       "    <tr>\n",
       "      <th>57</th>\n",
       "      <td>6544.10</td>\n",
       "      <td>6.86</td>\n",
       "      <td>4.42</td>\n",
       "    </tr>\n",
       "    <tr>\n",
       "      <th>58</th>\n",
       "      <td>6546.20</td>\n",
       "      <td>6.17</td>\n",
       "      <td>3.59</td>\n",
       "    </tr>\n",
       "    <tr>\n",
       "      <th>59</th>\n",
       "      <td>6548.30</td>\n",
       "      <td>6.31</td>\n",
       "      <td>4.69</td>\n",
       "    </tr>\n",
       "    <tr>\n",
       "      <th>60</th>\n",
       "      <td>6550.60</td>\n",
       "      <td>4.64</td>\n",
       "      <td>3.96</td>\n",
       "    </tr>\n",
       "    <tr>\n",
       "      <th>61</th>\n",
       "      <td>6552.50</td>\n",
       "      <td>5.19</td>\n",
       "      <td>2.90</td>\n",
       "    </tr>\n",
       "    <tr>\n",
       "      <th>62</th>\n",
       "      <td>6554.60</td>\n",
       "      <td>2.99</td>\n",
       "      <td>2.00</td>\n",
       "    </tr>\n",
       "    <tr>\n",
       "      <th>63</th>\n",
       "      <td>6556.80</td>\n",
       "      <td>6.15</td>\n",
       "      <td>3.86</td>\n",
       "    </tr>\n",
       "    <tr>\n",
       "      <th>64</th>\n",
       "      <td>6558.80</td>\n",
       "      <td>5.81</td>\n",
       "      <td>5.02</td>\n",
       "    </tr>\n",
       "    <tr>\n",
       "      <th>65</th>\n",
       "      <td>6560.60</td>\n",
       "      <td>5.28</td>\n",
       "      <td>3.90</td>\n",
       "    </tr>\n",
       "    <tr>\n",
       "      <th>66</th>\n",
       "      <td>6561.80</td>\n",
       "      <td>1.80</td>\n",
       "      <td>0.80</td>\n",
       "    </tr>\n",
       "    <tr>\n",
       "      <th>67</th>\n",
       "      <td>6563.60</td>\n",
       "      <td>4.51</td>\n",
       "      <td>3.35</td>\n",
       "    </tr>\n",
       "    <tr>\n",
       "      <th>68</th>\n",
       "      <td>6565.35</td>\n",
       "      <td>2.59</td>\n",
       "      <td>1.30</td>\n",
       "    </tr>\n",
       "    <tr>\n",
       "      <th>69</th>\n",
       "      <td>6567.00</td>\n",
       "      <td>5.18</td>\n",
       "      <td>3.72</td>\n",
       "    </tr>\n",
       "    <tr>\n",
       "      <th>70</th>\n",
       "      <td>6568.00</td>\n",
       "      <td>6.06</td>\n",
       "      <td>3.95</td>\n",
       "    </tr>\n",
       "    <tr>\n",
       "      <th>71</th>\n",
       "      <td>6570.30</td>\n",
       "      <td>5.89</td>\n",
       "      <td>4.53</td>\n",
       "    </tr>\n",
       "    <tr>\n",
       "      <th>72</th>\n",
       "      <td>6572.00</td>\n",
       "      <td>5.76</td>\n",
       "      <td>4.36</td>\n",
       "    </tr>\n",
       "    <tr>\n",
       "      <th>73</th>\n",
       "      <td>6573.80</td>\n",
       "      <td>4.99</td>\n",
       "      <td>4.66</td>\n",
       "    </tr>\n",
       "    <tr>\n",
       "      <th>74</th>\n",
       "      <td>6575.65</td>\n",
       "      <td>5.72</td>\n",
       "      <td>5.18</td>\n",
       "    </tr>\n",
       "    <tr>\n",
       "      <th>75</th>\n",
       "      <td>6578.80</td>\n",
       "      <td>5.12</td>\n",
       "      <td>5.76</td>\n",
       "    </tr>\n",
       "    <tr>\n",
       "      <th>76</th>\n",
       "      <td>6580.90</td>\n",
       "      <td>5.75</td>\n",
       "      <td>5.09</td>\n",
       "    </tr>\n",
       "    <tr>\n",
       "      <th>77</th>\n",
       "      <td>6583.10</td>\n",
       "      <td>4.75</td>\n",
       "      <td>2.97</td>\n",
       "    </tr>\n",
       "    <tr>\n",
       "      <th>78</th>\n",
       "      <td>6585.30</td>\n",
       "      <td>1.41</td>\n",
       "      <td>4.91</td>\n",
       "    </tr>\n",
       "    <tr>\n",
       "      <th>79</th>\n",
       "      <td>6587.00</td>\n",
       "      <td>4.48</td>\n",
       "      <td>3.89</td>\n",
       "    </tr>\n",
       "    <tr>\n",
       "      <th>80</th>\n",
       "      <td>6589.00</td>\n",
       "      <td>5.22</td>\n",
       "      <td>4.69</td>\n",
       "    </tr>\n",
       "    <tr>\n",
       "      <th>81</th>\n",
       "      <td>6591.40</td>\n",
       "      <td>4.40</td>\n",
       "      <td>2.64</td>\n",
       "    </tr>\n",
       "    <tr>\n",
       "      <th>82</th>\n",
       "      <td>6593.00</td>\n",
       "      <td>5.34</td>\n",
       "      <td>4.00</td>\n",
       "    </tr>\n",
       "    <tr>\n",
       "      <th>83</th>\n",
       "      <td>6594.60</td>\n",
       "      <td>5.54</td>\n",
       "      <td>3.71</td>\n",
       "    </tr>\n",
       "    <tr>\n",
       "      <th>84</th>\n",
       "      <td>6596.05</td>\n",
       "      <td>7.02</td>\n",
       "      <td>3.38</td>\n",
       "    </tr>\n",
       "    <tr>\n",
       "      <th>85</th>\n",
       "      <td>6598.10</td>\n",
       "      <td>6.71</td>\n",
       "      <td>4.11</td>\n",
       "    </tr>\n",
       "    <tr>\n",
       "      <th>86</th>\n",
       "      <td>6600.00</td>\n",
       "      <td>5.91</td>\n",
       "      <td>5.30</td>\n",
       "    </tr>\n",
       "    <tr>\n",
       "      <th>87</th>\n",
       "      <td>6601.40</td>\n",
       "      <td>6.08</td>\n",
       "      <td>4.50</td>\n",
       "    </tr>\n",
       "    <tr>\n",
       "      <th>88</th>\n",
       "      <td>6604.00</td>\n",
       "      <td>4.10</td>\n",
       "      <td>1.79</td>\n",
       "    </tr>\n",
       "    <tr>\n",
       "      <th>89</th>\n",
       "      <td>6606.00</td>\n",
       "      <td>4.74</td>\n",
       "      <td>3.79</td>\n",
       "    </tr>\n",
       "    <tr>\n",
       "      <th>90</th>\n",
       "      <td>6608.70</td>\n",
       "      <td>6.00</td>\n",
       "      <td>4.06</td>\n",
       "    </tr>\n",
       "    <tr>\n",
       "      <th>91</th>\n",
       "      <td>6611.00</td>\n",
       "      <td>3.40</td>\n",
       "      <td>3.66</td>\n",
       "    </tr>\n",
       "    <tr>\n",
       "      <th>92</th>\n",
       "      <td>6613.20</td>\n",
       "      <td>5.10</td>\n",
       "      <td>2.82</td>\n",
       "    </tr>\n",
       "    <tr>\n",
       "      <th>93</th>\n",
       "      <td>6615.10</td>\n",
       "      <td>4.39</td>\n",
       "      <td>3.72</td>\n",
       "    </tr>\n",
       "    <tr>\n",
       "      <th>94</th>\n",
       "      <td>6617.00</td>\n",
       "      <td>4.80</td>\n",
       "      <td>4.61</td>\n",
       "    </tr>\n",
       "    <tr>\n",
       "      <th>95</th>\n",
       "      <td>6619.00</td>\n",
       "      <td>3.54</td>\n",
       "      <td>5.35</td>\n",
       "    </tr>\n",
       "    <tr>\n",
       "      <th>96</th>\n",
       "      <td>6621.00</td>\n",
       "      <td>3.22</td>\n",
       "      <td>4.27</td>\n",
       "    </tr>\n",
       "    <tr>\n",
       "      <th>97</th>\n",
       "      <td>6623.20</td>\n",
       "      <td>4.98</td>\n",
       "      <td>4.00</td>\n",
       "    </tr>\n",
       "    <tr>\n",
       "      <th>98</th>\n",
       "      <td>6627.50</td>\n",
       "      <td>4.06</td>\n",
       "      <td>6.23</td>\n",
       "    </tr>\n",
       "    <tr>\n",
       "      <th>99</th>\n",
       "      <td>6629.30</td>\n",
       "      <td>4.40</td>\n",
       "      <td>4.64</td>\n",
       "    </tr>\n",
       "    <tr>\n",
       "      <th>100</th>\n",
       "      <td>6631.10</td>\n",
       "      <td>3.97</td>\n",
       "      <td>5.41</td>\n",
       "    </tr>\n",
       "  </tbody>\n",
       "</table>\n",
       "</div>"
      ],
      "text/plain": [
       "       Depth  CorrectedPorosity   TOC\n",
       "50   6531.70               4.80  4.68\n",
       "51   6534.00               4.38  5.20\n",
       "52   6535.80               4.46  4.87\n",
       "53   6538.00               4.14  4.36\n",
       "54   6540.00               1.47  1.24\n",
       "55   6542.10               5.88  5.15\n",
       "56   6543.00               7.11  3.91\n",
       "57   6544.10               6.86  4.42\n",
       "58   6546.20               6.17  3.59\n",
       "59   6548.30               6.31  4.69\n",
       "60   6550.60               4.64  3.96\n",
       "61   6552.50               5.19  2.90\n",
       "62   6554.60               2.99  2.00\n",
       "63   6556.80               6.15  3.86\n",
       "64   6558.80               5.81  5.02\n",
       "65   6560.60               5.28  3.90\n",
       "66   6561.80               1.80  0.80\n",
       "67   6563.60               4.51  3.35\n",
       "68   6565.35               2.59  1.30\n",
       "69   6567.00               5.18  3.72\n",
       "70   6568.00               6.06  3.95\n",
       "71   6570.30               5.89  4.53\n",
       "72   6572.00               5.76  4.36\n",
       "73   6573.80               4.99  4.66\n",
       "74   6575.65               5.72  5.18\n",
       "75   6578.80               5.12  5.76\n",
       "76   6580.90               5.75  5.09\n",
       "77   6583.10               4.75  2.97\n",
       "78   6585.30               1.41  4.91\n",
       "79   6587.00               4.48  3.89\n",
       "80   6589.00               5.22  4.69\n",
       "81   6591.40               4.40  2.64\n",
       "82   6593.00               5.34  4.00\n",
       "83   6594.60               5.54  3.71\n",
       "84   6596.05               7.02  3.38\n",
       "85   6598.10               6.71  4.11\n",
       "86   6600.00               5.91  5.30\n",
       "87   6601.40               6.08  4.50\n",
       "88   6604.00               4.10  1.79\n",
       "89   6606.00               4.74  3.79\n",
       "90   6608.70               6.00  4.06\n",
       "91   6611.00               3.40  3.66\n",
       "92   6613.20               5.10  2.82\n",
       "93   6615.10               4.39  3.72\n",
       "94   6617.00               4.80  4.61\n",
       "95   6619.00               3.54  5.35\n",
       "96   6621.00               3.22  4.27\n",
       "97   6623.20               4.98  4.00\n",
       "98   6627.50               4.06  6.23\n",
       "99   6629.30               4.40  4.64\n",
       "100  6631.10               3.97  5.41"
      ]
     },
     "execution_count": 67,
     "metadata": {},
     "output_type": "execute_result"
    }
   ],
   "source": [
    "df.iloc[50:101, 0:3]"
   ]
  },
  {
   "cell_type": "code",
   "execution_count": 68,
   "id": "bfdf75ac",
   "metadata": {},
   "outputs": [
    {
     "data": {
      "text/html": [
       "<div>\n",
       "<style scoped>\n",
       "    .dataframe tbody tr th:only-of-type {\n",
       "        vertical-align: middle;\n",
       "    }\n",
       "\n",
       "    .dataframe tbody tr th {\n",
       "        vertical-align: top;\n",
       "    }\n",
       "\n",
       "    .dataframe thead th {\n",
       "        text-align: right;\n",
       "    }\n",
       "</style>\n",
       "<table border=\"1\" class=\"dataframe\">\n",
       "  <thead>\n",
       "    <tr style=\"text-align: right;\">\n",
       "      <th></th>\n",
       "      <th>Depth</th>\n",
       "      <th>CorrectedPorosity</th>\n",
       "      <th>TOC</th>\n",
       "    </tr>\n",
       "  </thead>\n",
       "  <tbody>\n",
       "    <tr>\n",
       "      <th>50</th>\n",
       "      <td>6531.7</td>\n",
       "      <td>4.80</td>\n",
       "      <td>4.68</td>\n",
       "    </tr>\n",
       "    <tr>\n",
       "      <th>51</th>\n",
       "      <td>6534.0</td>\n",
       "      <td>4.38</td>\n",
       "      <td>5.20</td>\n",
       "    </tr>\n",
       "    <tr>\n",
       "      <th>52</th>\n",
       "      <td>6535.8</td>\n",
       "      <td>4.46</td>\n",
       "      <td>4.87</td>\n",
       "    </tr>\n",
       "    <tr>\n",
       "      <th>53</th>\n",
       "      <td>6538.0</td>\n",
       "      <td>4.14</td>\n",
       "      <td>4.36</td>\n",
       "    </tr>\n",
       "    <tr>\n",
       "      <th>54</th>\n",
       "      <td>6540.0</td>\n",
       "      <td>1.47</td>\n",
       "      <td>1.24</td>\n",
       "    </tr>\n",
       "  </tbody>\n",
       "</table>\n",
       "</div>"
      ],
      "text/plain": [
       "     Depth  CorrectedPorosity   TOC\n",
       "50  6531.7               4.80  4.68\n",
       "51  6534.0               4.38  5.20\n",
       "52  6535.8               4.46  4.87\n",
       "53  6538.0               4.14  4.36\n",
       "54  6540.0               1.47  1.24"
      ]
     },
     "execution_count": 68,
     "metadata": {},
     "output_type": "execute_result"
    }
   ],
   "source": [
    "df.iloc[50:101, 0:3].head()"
   ]
  },
  {
   "cell_type": "code",
   "execution_count": 69,
   "id": "c511ad40",
   "metadata": {},
   "outputs": [
    {
     "data": {
      "text/html": [
       "<div>\n",
       "<style scoped>\n",
       "    .dataframe tbody tr th:only-of-type {\n",
       "        vertical-align: middle;\n",
       "    }\n",
       "\n",
       "    .dataframe tbody tr th {\n",
       "        vertical-align: top;\n",
       "    }\n",
       "\n",
       "    .dataframe thead th {\n",
       "        text-align: right;\n",
       "    }\n",
       "</style>\n",
       "<table border=\"1\" class=\"dataframe\">\n",
       "  <thead>\n",
       "    <tr style=\"text-align: right;\">\n",
       "      <th></th>\n",
       "      <th>Depth</th>\n",
       "      <th>CorrectedPorosity</th>\n",
       "      <th>TOC</th>\n",
       "    </tr>\n",
       "  </thead>\n",
       "  <tbody>\n",
       "    <tr>\n",
       "      <th>96</th>\n",
       "      <td>6621.0</td>\n",
       "      <td>3.22</td>\n",
       "      <td>4.27</td>\n",
       "    </tr>\n",
       "    <tr>\n",
       "      <th>97</th>\n",
       "      <td>6623.2</td>\n",
       "      <td>4.98</td>\n",
       "      <td>4.00</td>\n",
       "    </tr>\n",
       "    <tr>\n",
       "      <th>98</th>\n",
       "      <td>6627.5</td>\n",
       "      <td>4.06</td>\n",
       "      <td>6.23</td>\n",
       "    </tr>\n",
       "    <tr>\n",
       "      <th>99</th>\n",
       "      <td>6629.3</td>\n",
       "      <td>4.40</td>\n",
       "      <td>4.64</td>\n",
       "    </tr>\n",
       "    <tr>\n",
       "      <th>100</th>\n",
       "      <td>6631.1</td>\n",
       "      <td>3.97</td>\n",
       "      <td>5.41</td>\n",
       "    </tr>\n",
       "  </tbody>\n",
       "</table>\n",
       "</div>"
      ],
      "text/plain": [
       "      Depth  CorrectedPorosity   TOC\n",
       "96   6621.0               3.22  4.27\n",
       "97   6623.2               4.98  4.00\n",
       "98   6627.5               4.06  6.23\n",
       "99   6629.3               4.40  4.64\n",
       "100  6631.1               3.97  5.41"
      ]
     },
     "execution_count": 69,
     "metadata": {},
     "output_type": "execute_result"
    }
   ],
   "source": [
    "df.iloc[50:101, 0:3].tail()"
   ]
  },
  {
   "cell_type": "code",
   "execution_count": null,
   "id": "dbea265f",
   "metadata": {},
   "outputs": [],
   "source": []
  },
  {
   "cell_type": "code",
   "execution_count": null,
   "id": "66258c56",
   "metadata": {},
   "outputs": [],
   "source": []
  },
  {
   "cell_type": "code",
   "execution_count": null,
   "id": "b5b98ffb",
   "metadata": {},
   "outputs": [],
   "source": []
  },
  {
   "cell_type": "code",
   "execution_count": null,
   "id": "b0f2f67a",
   "metadata": {},
   "outputs": [],
   "source": []
  },
  {
   "cell_type": "code",
   "execution_count": null,
   "id": "c6366d0a",
   "metadata": {},
   "outputs": [],
   "source": []
  },
  {
   "cell_type": "code",
   "execution_count": null,
   "id": "755e5b4b",
   "metadata": {},
   "outputs": [],
   "source": []
  },
  {
   "cell_type": "code",
   "execution_count": null,
   "id": "d7d58c09",
   "metadata": {},
   "outputs": [],
   "source": []
  }
 ],
 "metadata": {
  "kernelspec": {
   "display_name": "Python 3 (ipykernel)",
   "language": "python",
   "name": "python3"
  },
  "language_info": {
   "codemirror_mode": {
    "name": "ipython",
    "version": 3
   },
   "file_extension": ".py",
   "mimetype": "text/x-python",
   "name": "python",
   "nbconvert_exporter": "python",
   "pygments_lexer": "ipython3",
   "version": "3.10.9"
  }
 },
 "nbformat": 4,
 "nbformat_minor": 5
}
